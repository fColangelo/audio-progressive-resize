{
 "cells": [
  {
   "cell_type": "code",
   "execution_count": 41,
   "metadata": {},
   "outputs": [],
   "source": [
    "%matplotlib inline\n",
    "%load_ext autoreload\n",
    "%autoreload 2"
   ]
  },
  {
   "cell_type": "code",
   "execution_count": 42,
   "metadata": {},
   "outputs": [],
   "source": [
    "import hydra\n",
    "from hydra.utils import instantiate\n",
    "from hydra import compose, initialize\n",
    "from omegaconf import OmegaConf\n",
    "import torchaudio, torch\n",
    "import matplotlib.pyplot as plt"
   ]
  },
  {
   "cell_type": "code",
   "execution_count": 38,
   "metadata": {},
   "outputs": [
    {
     "data": {
      "text/plain": [
       "tensor([0.0000e+00, 9.4175e-06, 3.7640e-05,  ..., 8.4698e-05, 3.7640e-05,\n",
       "        9.4175e-06])"
      ]
     },
     "execution_count": 38,
     "metadata": {},
     "output_type": "execute_result"
    }
   ],
   "source": [
    "torch.hann_window(1024)"
   ]
  },
  {
   "cell_type": "code",
   "execution_count": 39,
   "metadata": {},
   "outputs": [
    {
     "name": "stdout",
     "output_type": "stream",
     "text": [
      "original_work_dir: ${hydra:runtime.cwd}\n",
      "data_dir: ${original_work_dir}/data/\n",
      "print_config: true\n",
      "ignore_warnings: true\n",
      "train: true\n",
      "test: false\n",
      "seed: null\n",
      "name: default\n",
      "audio:\n",
      "  transform:\n",
      "    _target_: torchaudio.transforms.MelSpectrogram\n",
      "    sample_rate: 32000\n",
      "    n_fft: 1024\n",
      "    win_length: 1024\n",
      "    hop_length: 512\n",
      "    f_min: 0.0\n",
      "    f_max: 16000.0\n",
      "    n_mels: 128\n",
      "    window_fn:\n",
      "      _target_: hydra.utils.get_method\n",
      "      path: torch.hann_window\n",
      "datamodule:\n",
      "  _target_: src.datamodules.mnist_datamodule.MNISTDataModule\n",
      "  data_dir: ${data_dir}\n",
      "  batch_size: 64\n",
      "  train_val_test_split:\n",
      "  - 55000\n",
      "  - 5000\n",
      "  - 10000\n",
      "  num_workers: 0\n",
      "  pin_memory: false\n",
      "model:\n",
      "  _target_: src.models.mnist_module.MNISTLitModule\n",
      "  lr: 0.001\n",
      "  weight_decay: 0.0005\n",
      "  net:\n",
      "    _target_: src.models.components.simple_dense_net.SimpleDenseNet\n",
      "    input_size: 784\n",
      "    lin1_size: 256\n",
      "    lin2_size: 256\n",
      "    lin3_size: 256\n",
      "    output_size: 10\n",
      "callbacks:\n",
      "  model_checkpoint:\n",
      "    _target_: pytorch_lightning.callbacks.ModelCheckpoint\n",
      "    monitor: val/acc\n",
      "    mode: max\n",
      "    save_top_k: 1\n",
      "    save_last: true\n",
      "    verbose: false\n",
      "    dirpath: checkpoints/\n",
      "    filename: epoch_{epoch:03d}\n",
      "    auto_insert_metric_name: false\n",
      "  early_stopping:\n",
      "    _target_: pytorch_lightning.callbacks.EarlyStopping\n",
      "    monitor: val/acc\n",
      "    mode: max\n",
      "    patience: 100\n",
      "    min_delta: 0\n",
      "  model_summary:\n",
      "    _target_: pytorch_lightning.callbacks.RichModelSummary\n",
      "    max_depth: -1\n",
      "  rich_progress_bar:\n",
      "    _target_: pytorch_lightning.callbacks.RichProgressBar\n",
      "logger:\n",
      "  tensorboard:\n",
      "    _target_: pytorch_lightning.loggers.tensorboard.TensorBoardLogger\n",
      "    save_dir: tensorboard/\n",
      "    name: null\n",
      "    version: ${name}\n",
      "    log_graph: false\n",
      "    default_hp_metric: true\n",
      "    prefix: ''\n",
      "trainer:\n",
      "  _target_: pytorch_lightning.Trainer\n",
      "  gpus: 0\n",
      "  min_epochs: 1\n",
      "  max_epochs: 10\n",
      "  resume_from_checkpoint: null\n",
      "\n"
     ]
    }
   ],
   "source": [
    "with initialize(\"../configs/\"):\n",
    "    cfg = compose(config_name=\"train\")\n",
    "    print(OmegaConf.to_yaml(cfg))\n"
   ]
  },
  {
   "cell_type": "code",
   "execution_count": 40,
   "metadata": {},
   "outputs": [
    {
     "data": {
      "text/plain": [
       "MelSpectrogram(\n",
       "  (spectrogram): Spectrogram()\n",
       "  (mel_scale): MelScale()\n",
       ")"
      ]
     },
     "execution_count": 40,
     "metadata": {},
     "output_type": "execute_result"
    }
   ],
   "source": [
    "a = instantiate(cfg.audio.transform)\n",
    "a"
   ]
  },
  {
   "cell_type": "code",
   "execution_count": 31,
   "metadata": {},
   "outputs": [
    {
     "data": {
      "text/plain": [
       "<function _VariableFunctionsClass.hann_window>"
      ]
     },
     "execution_count": 31,
     "metadata": {},
     "output_type": "execute_result"
    }
   ],
   "source": [
    "hydra.utils.get_method(\"torch.hann_window\")"
   ]
  },
  {
   "cell_type": "code",
   "execution_count": null,
   "metadata": {},
   "outputs": [],
   "source": []
  }
 ],
 "metadata": {
  "interpreter": {
   "hash": "2b9b20452a21dbd72bc5dd6854af6d564ecf1639a36a53b0f1ce89012d1a55eb"
  },
  "kernelspec": {
   "display_name": "Python 3.8.8 ('base')",
   "language": "python",
   "name": "python3"
  },
  "language_info": {
   "codemirror_mode": {
    "name": "ipython",
    "version": 3
   },
   "file_extension": ".py",
   "mimetype": "text/x-python",
   "name": "python",
   "nbconvert_exporter": "python",
   "pygments_lexer": "ipython3",
   "version": "3.8.8"
  },
  "orig_nbformat": 4
 },
 "nbformat": 4,
 "nbformat_minor": 2
}
